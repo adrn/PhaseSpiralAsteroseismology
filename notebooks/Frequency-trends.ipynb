{
 "cells": [
  {
   "cell_type": "code",
   "execution_count": null,
   "id": "cbdd07e4",
   "metadata": {},
   "outputs": [],
   "source": [
    "import pathlib\n",
    "\n",
    "from astropy.convolution import Gaussian2DKernel, convolve\n",
    "import astropy.coordinates as coord\n",
    "import astropy.table as at\n",
    "import astropy.units as u\n",
    "import matplotlib as mpl\n",
    "import matplotlib.pyplot as plt\n",
    "%matplotlib inline\n",
    "import numpy as np\n",
    "from scipy.stats import binned_statistic, binned_statistic_2d\n",
    "from astropy.stats import median_absolute_deviation as MAD\n",
    "from tqdm.notebook import trange, tqdm\n",
    "\n",
    "# gala\n",
    "import gala.coordinates as gc\n",
    "import gala.dynamics as gd\n",
    "import gala.integrate as gi\n",
    "import gala.potential as gp\n",
    "from gala.units import galactic\n",
    "\n",
    "from cmastro import cmaps\n",
    "from totoro.actions import get_staeckel_aaf"
   ]
  },
  {
   "cell_type": "code",
   "execution_count": null,
   "id": "9fa47b9b",
   "metadata": {},
   "outputs": [],
   "source": [
    "potential = gp.MilkyWayPotential()"
   ]
  },
  {
   "cell_type": "code",
   "execution_count": null,
   "id": "372f18d1",
   "metadata": {},
   "outputs": [],
   "source": [
    "sun_w0 = gd.PhaseSpacePosition(pos=[-8.1, 0, 0.0206] * u.kpc, \n",
    "                               vel=[12.9, 245.6, 7.78] * u.km/u.s)\n",
    "sun_orbit = potential.integrate_orbit(sun_w0, dt=2., t1=0, t2=250*u.Myr * 100, \n",
    "                                      Integrator=gi.DOPRI853Integrator)\n",
    "sun_aaf = gd.find_actions(sun_orbit, N_max=8)"
   ]
  },
  {
   "cell_type": "code",
   "execution_count": null,
   "id": "4e0fd358",
   "metadata": {},
   "outputs": [],
   "source": [
    "action_units = sun_aaf['actions']\n",
    "action_units"
   ]
  },
  {
   "cell_type": "code",
   "execution_count": null,
   "id": "c14d6d9f",
   "metadata": {},
   "outputs": [],
   "source": [
    "def get_aafs(w0):\n",
    "    orbits = potential.integrate_orbit(\n",
    "        w0, dt=1., t1=0, t2=250*u.Myr * 100, \n",
    "        Integrator=gi.DOPRI853Integrator)\n",
    "    \n",
    "    aafs = []\n",
    "\n",
    "    for i in trange(w0.shape[0]):\n",
    "        try:\n",
    "            aaf = gd.find_actions(orbits[:, i], N_max=8)\n",
    "        except ValueError:\n",
    "            continue\n",
    "\n",
    "        for k in ['Sn', 'dSn_dJ', 'nvecs']:\n",
    "            aaf.pop(k)\n",
    "        aafs.append(aaf)\n",
    "\n",
    "    aafs = at.QTable(aafs)\n",
    "    aafs['periods'] = np.abs((2*np.pi*u.rad) / (aafs['freqs']*u.rad))\n",
    "    \n",
    "    return aafs"
   ]
  },
  {
   "cell_type": "markdown",
   "id": "68898bb7",
   "metadata": {},
   "source": [
    "# Compare $\\Omega_R(J_R)$ vs. $\\Omega_z(J_z)$"
   ]
  },
  {
   "cell_type": "code",
   "execution_count": null,
   "id": "7d14324c",
   "metadata": {},
   "outputs": [],
   "source": [
    "xs = [-12, -8, -4]"
   ]
  },
  {
   "cell_type": "code",
   "execution_count": null,
   "id": "9f6c6926",
   "metadata": {},
   "outputs": [],
   "source": [
    "npts = 32\n",
    "\n",
    "R_all_aafs = []\n",
    "for x in xs:\n",
    "    xyz = np.repeat(np.array([[x, 0, 0]]).T, npts, axis=1) * u.kpc\n",
    "\n",
    "    vxyz = np.zeros_like(xyz.value) * u.km/u.s\n",
    "    vxyz[0] = np.geomspace(0.5, 100, npts) * u.km/u.s\n",
    "    vxyz[1] = potential.circular_velocity(xyz)\n",
    "    vxyz[2] = 1e-1*u.km/u.s\n",
    "\n",
    "    w0 = gd.PhaseSpacePosition(pos=xyz, vel=vxyz)\n",
    "    aafs = get_aafs(w0)\n",
    "    \n",
    "    R_all_aafs.append(aafs)"
   ]
  },
  {
   "cell_type": "code",
   "execution_count": null,
   "id": "42921615",
   "metadata": {},
   "outputs": [],
   "source": [
    "npts = 32\n",
    "\n",
    "z_all_aafs = []\n",
    "for x in xs:\n",
    "    xyz = np.repeat(np.array([[x, 0, 0]]).T, npts, axis=1) * u.kpc\n",
    "\n",
    "    vxyz = np.zeros_like(xyz.value) * u.km/u.s\n",
    "    vxyz[0] = 0.1*u.km/u.s\n",
    "    vxyz[1] = potential.circular_velocity(xyz)\n",
    "    vxyz[2] = np.geomspace(0.1, 100, npts) * u.km/u.s\n",
    "\n",
    "    w0 = gd.PhaseSpacePosition(pos=xyz, vel=vxyz)\n",
    "    aafs = get_aafs(w0)\n",
    "    \n",
    "    z_all_aafs.append(aafs)"
   ]
  },
  {
   "cell_type": "code",
   "execution_count": null,
   "id": "8fafe186",
   "metadata": {},
   "outputs": [],
   "source": [
    "ax2 = axes[0].twinx()\n",
    "    ax2.set_ylabel(f'period, $P_{coo[k]}$ [Myr]')\n",
    "    ax2.set_ylim([1000 / x for x in axes[0].get_ylim()])\n",
    "    \n",
    "    ax3 = axes[1].twinx()\n",
    "    ax3.set_ylabel(f'phase-mixing time [Myr]')\n",
    "    ax3.set_ylim([1000 / x for x in axes[1].get_ylim()])"
   ]
  },
  {
   "cell_type": "code",
   "execution_count": null,
   "id": "b50b2b34",
   "metadata": {},
   "outputs": [],
   "source": [
    "coo = {\n",
    "    0: 'R',\n",
    "    2: 'z'\n",
    "}\n",
    "\n",
    "spans = {\n",
    "    0: [0.23645763, 9.5840498],\n",
    "    2: [0.51749222, 50.65398411]\n",
    "}\n",
    "\n",
    "all_aafs = {\n",
    "    0: R_all_aafs,\n",
    "    2: z_all_aafs\n",
    "}"
   ]
  },
  {
   "cell_type": "code",
   "execution_count": null,
   "id": "16078f30",
   "metadata": {},
   "outputs": [],
   "source": [
    "from scipy.interpolate import interp1d"
   ]
  },
  {
   "cell_type": "code",
   "execution_count": null,
   "id": "02da736f",
   "metadata": {},
   "outputs": [],
   "source": [
    "for k in [0, 2]:\n",
    "    fig, axes = plt.subplots(2, 1, figsize=(8, 8), \n",
    "                             sharex=True)\n",
    "\n",
    "    for aafs, xx in zip(all_aafs[k], xs):\n",
    "        J = aafs['actions'][:, k].to_value(action_units[k])\n",
    "        f = (aafs['freqs'][:, k]*u.rad / (2*np.pi*u.rad)).to_value(1 / u.Gyr)\n",
    "\n",
    "        axes[0].plot(J, 1000 / f, label=f'$R={abs(xx):.0f}$ kpc',\n",
    "                     lw=2, marker='')\n",
    "        \n",
    "        \n",
    "        f_func = interp1d(J, f)\n",
    "        axes[1].plot(J,\n",
    "                     1 / np.abs(f_func(J) - f_func(1.)),\n",
    "                     lw=2, marker='')\n",
    "\n",
    "    axes[0].set_xlim(0, 1.5 * spans[k][1])\n",
    "\n",
    "    axes[0].set_ylabel(f'period, $P_{coo[k]}$ [Myr]')\n",
    "#     axes[1].set_ylabel('$' + \n",
    "#                        r'\\sigma_{\\nu_' + coo[k] + '}^{-1} = ' +\n",
    "#                        r'\\left[\\frac{{\\rm d}\\nu_' + coo[k] + r'}' + \n",
    "#                        r'{{\\rm d}J_' + coo[k] + r'} \\, \\sigma_{J_' + coo[k] + r'}\\right]^{-1}$ ' +\n",
    "#                        r'[${\\rm Gyr}$]')\n",
    "    axes[1].set_ylabel('spiral-forming timescale [Gyr]')\n",
    "    axes[1].set_xlabel(f'$J_{coo[k]}$')\n",
    "\n",
    "    axes[0].legend(loc='upper right', fontsize=14)\n",
    "    \n",
    "    axes[0].set_ylim(0, 300)\n",
    "    axes[1].set_ylim(0, 7)\n",
    "\n",
    "    # 5, 95 percentile from local data:\n",
    "    for ax in axes:\n",
    "        ax.axvspan(*spans[k], zorder=-10, color='tab:green', \n",
    "                   alpha=0.1, linewidth=0)\n",
    "\n",
    "    fig.tight_layout()"
   ]
  },
  {
   "cell_type": "markdown",
   "id": "9462ff9d",
   "metadata": {},
   "source": [
    "### Note: this is the phase-mixing timescale below. I don't think that's actually what we want?"
   ]
  },
  {
   "cell_type": "code",
   "execution_count": null,
   "id": "0d951165",
   "metadata": {},
   "outputs": [],
   "source": [
    "for k in [0, 2]:\n",
    "    fig, axes = plt.subplots(2, 1, figsize=(8, 8), \n",
    "                             sharex=True)\n",
    "\n",
    "    for aafs, xx in zip(all_aafs[k], xs):\n",
    "        J = aafs['actions'][:, k].to_value(action_units[k])\n",
    "        f = (aafs['freqs'][:, k]*u.rad / (2*np.pi*u.rad)).to_value(1 / u.Gyr)\n",
    "\n",
    "        axes[0].plot(J, 1000 / f, label=f'$R={abs(xx):.0f}$ kpc',\n",
    "                     lw=2, marker='')\n",
    "\n",
    "        axes[1].plot(0.5 * (J[:-1] + J[1:]), \n",
    "                     1 / (np.abs(np.diff(f) / np.diff(J)) * spans[k][1]),\n",
    "                     lw=2, marker='')\n",
    "\n",
    "    axes[0].set_xlim(0, 1.5 * spans[k][1])\n",
    "\n",
    "    axes[0].set_ylabel(f'period, $P_{coo[k]}$ [Myr]')\n",
    "    axes[1].set_ylabel('$' + \n",
    "                       r'\\sigma_{\\nu_' + coo[k] + '}^{-1} = ' +\n",
    "                       r'\\left[\\frac{{\\rm d}\\nu_' + coo[k] + r'}' + \n",
    "                       r'{{\\rm d}J_' + coo[k] + r'} \\, \\sigma_{J_' + coo[k] + r'}\\right]^{-1}$ ' +\n",
    "                       r'[${\\rm Gyr}$]')\n",
    "    axes[1].set_xlabel(f'$J_{coo[k]}$')\n",
    "\n",
    "    axes[0].legend(loc='upper right', fontsize=14)\n",
    "    \n",
    "    axes[0].set_ylim(0, 300)\n",
    "    axes[1].set_ylim(0, 7)\n",
    "\n",
    "    # 5, 95 percentile from local data:\n",
    "    for ax in axes:\n",
    "        ax.axvspan(*spans[k], zorder=-10, color='tab:green', \n",
    "                   alpha=0.1, linewidth=0)\n",
    "\n",
    "    fig.tight_layout()"
   ]
  },
  {
   "cell_type": "code",
   "execution_count": null,
   "id": "62b82bb1",
   "metadata": {},
   "outputs": [],
   "source": [
    "for k in [0, 2]:\n",
    "    fig, axes = plt.subplots(2, 1, figsize=(8, 8), \n",
    "                             sharex=True)\n",
    "\n",
    "    for aafs, xx in zip(all_aafs[k], xs):\n",
    "        J = aafs['actions'][:, k].to_value(action_units[k])\n",
    "        f = (aafs['freqs'][:, k]*u.rad / (2*np.pi*u.rad)).to_value(1 / u.Gyr)\n",
    "\n",
    "        axes[0].plot(J, f, label=f'$R={abs(xx):.0f}$ kpc',\n",
    "                     lw=2, marker='')\n",
    "\n",
    "        axes[1].plot(0.5 * (J[:-1] + J[1:]), \n",
    "                     np.abs(np.diff(f) / np.diff(J)) * spans[k][1],\n",
    "                     lw=2, marker='')\n",
    "\n",
    "    axes[0].set_xlim(0, 1.5 * spans[k][1])\n",
    "\n",
    "    axes[0].set_ylabel(fr'frequency, $\\nu_{coo[k]}$ ' + r'[${\\rm Gyr}^{-1}$]')\n",
    "    axes[1].set_ylabel('$' + \n",
    "                       r'\\sigma_{\\nu_' + coo[k] + '} = ' +\n",
    "                       r'\\frac{{\\rm d}\\nu_' + coo[k] + r'}' + \n",
    "                       r'{{\\rm d}J_' + coo[k] + r'} \\, \\sigma_{J_' + coo[k] + '}$ ' +\n",
    "                       r'[${\\rm Gyr}^{-1}$]')\n",
    "    axes[1].set_xlabel(f'$J_{coo[k]}$')\n",
    "\n",
    "    axes[0].legend(loc='upper right', fontsize=14)\n",
    "\n",
    "    # 5, 95 percentile from local data:\n",
    "    for ax in axes:\n",
    "        ax.axvspan(*spans[k], zorder=-10, color='tab:green', \n",
    "                   alpha=0.1, linewidth=0)\n",
    "\n",
    "    fig.tight_layout()"
   ]
  },
  {
   "cell_type": "code",
   "execution_count": null,
   "id": "5dfe7e27",
   "metadata": {},
   "outputs": [],
   "source": [
    "2π / (Omega(J_1) - Omega(J_2))"
   ]
  },
  {
   "cell_type": "code",
   "execution_count": null,
   "id": "6f38bedd",
   "metadata": {},
   "outputs": [],
   "source": []
  }
 ],
 "metadata": {
  "kernelspec": {
   "display_name": "Python [conda env:root] *",
   "language": "python",
   "name": "conda-root-py"
  },
  "language_info": {
   "codemirror_mode": {
    "name": "ipython",
    "version": 3
   },
   "file_extension": ".py",
   "mimetype": "text/x-python",
   "name": "python",
   "nbconvert_exporter": "python",
   "pygments_lexer": "ipython3",
   "version": "3.8.3"
  },
  "toc": {
   "base_numbering": 1,
   "nav_menu": {},
   "number_sections": true,
   "sideBar": true,
   "skip_h1_title": false,
   "title_cell": "Table of Contents",
   "title_sidebar": "Contents",
   "toc_cell": false,
   "toc_position": {},
   "toc_section_display": true,
   "toc_window_display": false
  }
 },
 "nbformat": 4,
 "nbformat_minor": 5
}
