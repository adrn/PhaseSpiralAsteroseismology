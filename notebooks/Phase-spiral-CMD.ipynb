{
 "cells": [
  {
   "cell_type": "code",
   "execution_count": null,
   "id": "957fbf8f",
   "metadata": {},
   "outputs": [],
   "source": [
    "import pathlib\n",
    "\n",
    "import astropy.coordinates as coord\n",
    "import astropy.table as at\n",
    "import astropy.units as u\n",
    "import matplotlib as mpl\n",
    "import matplotlib.pyplot as plt\n",
    "%matplotlib inline\n",
    "import numpy as np\n",
    "\n",
    "# gala\n",
    "import gala.coordinates as gc\n",
    "import gala.dynamics as gd\n",
    "import gala.potential as gp\n",
    "from gala.units import galactic\n",
    "\n",
    "from pyia import GaiaData\n",
    "\n",
    "# from dustmaps.leike2020 import Leike2020Query"
   ]
  },
  {
   "cell_type": "code",
   "execution_count": null,
   "id": "1bb61ad1",
   "metadata": {},
   "outputs": [],
   "source": [
    "vcirc = 229 * u.km/u.s\n",
    "galcen_frame = coord.Galactocentric()\n",
    "galcen_frame"
   ]
  },
  {
   "cell_type": "code",
   "execution_count": null,
   "id": "f0fc1e52",
   "metadata": {},
   "outputs": [],
   "source": [
    "t1 = at.Table.read(pathlib.Path('~/data/GaiaEDR3/edr3-rv-good-plx-result.fits'))\n",
    "t2 = at.Table.read(pathlib.Path('~/data/GaiaEDR3/edr3-rv-good-plx-2mass-xm.fits.gz'))\n",
    "t = at.join(t1, t2, keys='source_id')"
   ]
  },
  {
   "cell_type": "code",
   "execution_count": null,
   "id": "d7b10d9c",
   "metadata": {},
   "outputs": [],
   "source": [
    "g = GaiaData(t)\n",
    "c = g.get_skycoord()"
   ]
  },
  {
   "cell_type": "code",
   "execution_count": null,
   "id": "e22fc1ca",
   "metadata": {},
   "outputs": [],
   "source": [
    "iso = at.Table.read('/Users/apricewhelan/data/Isochrones/mist/mist_v1.2_vvcrit0.0.fits')"
   ]
  },
  {
   "cell_type": "code",
   "execution_count": null,
   "id": "a98e363b",
   "metadata": {},
   "outputs": [],
   "source": [
    "MG = g.get_G0() - g.distmod\n",
    "BPRP = g.get_BP0() - g.get_RP0()\n",
    "\n",
    "# MG = g.phot_g_mean_mag - g.distmod\n",
    "# BPRP = g.phot_bp_mean_mag - g.phot_rp_mean_mag\n",
    "# GRP = g.phot_g_mean_mag - g.phot_rp_mean_mag"
   ]
  },
  {
   "cell_type": "code",
   "execution_count": null,
   "id": "734e6490",
   "metadata": {},
   "outputs": [],
   "source": [
    "i = iso[(iso['log10_isochrone_age_yr'] == 8.8) & \n",
    "        (iso['[Fe/H]_init'] == 0.5) & \n",
    "        (iso['phase'] < 1)]\n",
    "len(i)"
   ]
  },
  {
   "cell_type": "code",
   "execution_count": null,
   "id": "efbb8c00",
   "metadata": {},
   "outputs": [],
   "source": [
    "mask = (\n",
    "    (g.ruwe < 1.2) &\n",
    "    (np.abs(g.b) > 5*u.deg) &\n",
    "    (BPRP != 0.)\n",
    ")\n",
    "\n",
    "\n",
    "fig, ax = plt.subplots(1, 1, figsize=(6, 6))\n",
    "ax.hist2d(\n",
    "    BPRP.value[mask], MG.value[mask], \n",
    "    bins=(np.linspace(-1, 3, 256),\n",
    "          np.linspace(-5, 10, 256)),\n",
    "    norm=mpl.colors.LogNorm()\n",
    ")\n",
    "\n",
    "ax.plot(i['Gaia_BP_EDR3'] - i['Gaia_RP_EDR3'], \n",
    "        i['Gaia_G_EDR3'], \n",
    "        marker='')\n",
    "\n",
    "ax.set_xlim(-1., 3)\n",
    "ax.set_ylim(10, -6)"
   ]
  },
  {
   "cell_type": "code",
   "execution_count": null,
   "id": "992d5fa2",
   "metadata": {},
   "outputs": [],
   "source": []
  },
  {
   "cell_type": "code",
   "execution_count": null,
   "id": "acf080e5",
   "metadata": {},
   "outputs": [],
   "source": []
  }
 ],
 "metadata": {
  "kernelspec": {
   "display_name": "Python [conda env:root] *",
   "language": "python",
   "name": "conda-root-py"
  },
  "language_info": {
   "codemirror_mode": {
    "name": "ipython",
    "version": 3
   },
   "file_extension": ".py",
   "mimetype": "text/x-python",
   "name": "python",
   "nbconvert_exporter": "python",
   "pygments_lexer": "ipython3",
   "version": "3.8.3"
  },
  "toc": {
   "base_numbering": 1,
   "nav_menu": {},
   "number_sections": true,
   "sideBar": true,
   "skip_h1_title": false,
   "title_cell": "Table of Contents",
   "title_sidebar": "Contents",
   "toc_cell": false,
   "toc_position": {},
   "toc_section_display": true,
   "toc_window_display": false
  }
 },
 "nbformat": 4,
 "nbformat_minor": 5
}
