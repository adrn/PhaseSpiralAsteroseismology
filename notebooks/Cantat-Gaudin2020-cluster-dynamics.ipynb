{
 "cells": [
  {
   "cell_type": "code",
   "execution_count": null,
   "id": "41d92155",
   "metadata": {},
   "outputs": [],
   "source": [
    "import astropy.coordinates as coord\n",
    "import astropy.table as at\n",
    "import astropy.units as u\n",
    "import matplotlib as mpl\n",
    "import matplotlib.pyplot as plt\n",
    "%matplotlib inline\n",
    "import numpy as np\n",
    "\n",
    "# gala\n",
    "import gala.coordinates as gc\n",
    "import gala.dynamics as gd\n",
    "import gala.integrate as gi\n",
    "import gala.potential as gp\n",
    "from gala.units import galactic\n",
    "from cmastro import cmaps\n",
    "\n",
    "from totoro.actions import get_staeckel_aaf\n",
    "from tqdm.notebook import tqdm, trange"
   ]
  },
  {
   "cell_type": "code",
   "execution_count": null,
   "id": "b8726ac1",
   "metadata": {},
   "outputs": [],
   "source": [
    "cg2020 = at.QTable.read('/Users/apricewhelan/data/GaiaDR2/Cantat-Gaudin2020.fit')\n",
    "len(cg2020)"
   ]
  },
  {
   "cell_type": "code",
   "execution_count": null,
   "id": "961f6e02",
   "metadata": {},
   "outputs": [],
   "source": [
    "cg2020"
   ]
  },
  {
   "cell_type": "code",
   "execution_count": null,
   "id": "ad262824",
   "metadata": {},
   "outputs": [],
   "source": [
    "c = coord.SkyCoord(\n",
    "    ra=tbl['RA_ICRS'], \n",
    "    dec=tbl['DE_ICRS'],\n",
    "    distance=tbl['plx'].to(u.pc, u.parallax()),\n",
    "    pm_ra_cosdec=tbl['pmRA_'],\n",
    "    pm_dec=tbl['pmDE_'],\n",
    "    # DAMMIT! Don't have RV's...\n",
    "    radial_velocity=)"
   ]
  },
  {
   "cell_type": "code",
   "execution_count": null,
   "id": "29a0509b",
   "metadata": {},
   "outputs": [],
   "source": [
    "galcen = c.transform_to(coord.Galactocentric())\n",
    "galcen_mask = np.isfinite(galcen.x) & np.isfinite(galcen.v_x)"
   ]
  },
  {
   "cell_type": "code",
   "execution_count": null,
   "id": "2a5e0ff0",
   "metadata": {},
   "outputs": [],
   "source": [
    "w0 = gd.PhaseSpacePosition(galcen.data[galcen_mask])\n",
    "w0.shape"
   ]
  },
  {
   "cell_type": "code",
   "execution_count": null,
   "id": "1e768a40",
   "metadata": {},
   "outputs": [],
   "source": [
    "# Parameters from Price-Whelan et al. 2021\n",
    "mw = gp.MilkyWayPotential(disk=dict(m=6.98e10*u.Msun),\n",
    "                          halo=dict(m=4.82e+11*u.Msun))\n",
    "galpy_mw = gp.gala_to_galpy_potential(mw)"
   ]
  },
  {
   "cell_type": "code",
   "execution_count": null,
   "id": "aecdef07",
   "metadata": {},
   "outputs": [],
   "source": [
    "orbits = mw.integrate_orbit(w0, dt=-0.5, t1=0, t2=-6*u.Gyr)"
   ]
  },
  {
   "cell_type": "code",
   "execution_count": null,
   "id": "5a45b7e9",
   "metadata": {},
   "outputs": [],
   "source": [
    "zmax = orbits.zmax().to(u.kpc)\n",
    "zmax"
   ]
  },
  {
   "cell_type": "code",
   "execution_count": null,
   "id": "92b7991a",
   "metadata": {},
   "outputs": [],
   "source": [
    "fig = orbits.plot(alpha=0.4, marker='', lw=0.5)\n",
    "for ax in fig.axes:\n",
    "    ax.set_xlim(-30, 30)\n",
    "    ax.set_ylim(-30, 30)\n",
    "fig.set_facecolor('w')"
   ]
  },
  {
   "cell_type": "code",
   "execution_count": null,
   "id": "0662a46d",
   "metadata": {},
   "outputs": [],
   "source": [
    "fig, axes = plt.subplots(figsize=(8, 8))\n",
    "fig = orbits.cylindrical.plot(['rho', 'z'], alpha=0.4, marker='', lw=0.5,\n",
    "                              axes=[axes])\n",
    "for ax in fig.axes:\n",
    "    ax.set_xlim(0, 30)\n",
    "    ax.set_ylim(-15, 15)\n",
    "fig.set_facecolor('w')"
   ]
  },
  {
   "cell_type": "code",
   "execution_count": null,
   "id": "d44ff865",
   "metadata": {},
   "outputs": [],
   "source": [
    "tbl[orbits.zmax().argmax()]"
   ]
  },
  {
   "cell_type": "code",
   "execution_count": null,
   "id": "3024f9a4",
   "metadata": {},
   "outputs": [],
   "source": [
    "tbl[np.max(orbits.cylindrical.rho, axis=0).argmax()]"
   ]
  },
  {
   "cell_type": "code",
   "execution_count": null,
   "id": "fd088734",
   "metadata": {},
   "outputs": [],
   "source": [
    "P = np.abs(orbits.estimate_period())\n",
    "ecc = orbits.eccentricity(approximate=True)"
   ]
  },
  {
   "cell_type": "code",
   "execution_count": null,
   "id": "3f26ac7a",
   "metadata": {},
   "outputs": [],
   "source": [
    "aafs = {\n",
    "    'actions': [],\n",
    "    'angles': [],\n",
    "    'freqs': []\n",
    "}\n",
    "for n in trange(w0.shape[0]):\n",
    "    orbit_dop = mw.integrate_orbit(w0[n], dt=1., t1=0, t2=10 * P[n],\n",
    "                                   Integrator=gi.DOPRI853Integrator)\n",
    "    \n",
    "    Delta = np.median(gd.get_staeckel_fudge_delta(mw, orbit_dop))\n",
    "    aaf = at.QTable(get_staeckel_aaf(mw, orbit_dop, delta=Delta))\n",
    "    \n",
    "    for k in aaf.colnames:\n",
    "        aafs[k].append(np.mean(aaf[k], axis=0))\n",
    "        \n",
    "for k in aafs:\n",
    "    aafs[k] = u.Quantity(aafs[k])"
   ]
  },
  {
   "cell_type": "code",
   "execution_count": null,
   "id": "17c9b086",
   "metadata": {},
   "outputs": [],
   "source": [
    "Jphi_unit = -229*u.km/u.s * 8.1*u.kpc\n",
    "JR_unit = 25 * u.km/u.s * 1*u.kpc\n",
    "Jz_unit = 15 * u.km/u.s * 0.5*u.kpc\n",
    "J_units = [JR_unit, Jphi_unit, Jz_unit]\n",
    "J_names = [r'J_R', r'J_\\phi', r'J_z']\n",
    "\n",
    "Rg = np.abs(aafs['actions'][:, 1] / mw.circular_velocity(w0)).to(u.kpc)"
   ]
  },
  {
   "cell_type": "code",
   "execution_count": null,
   "id": "394d5965",
   "metadata": {},
   "outputs": [],
   "source": []
  }
 ],
 "metadata": {
  "kernelspec": {
   "display_name": "Python [conda env:root] *",
   "language": "python",
   "name": "conda-root-py"
  },
  "language_info": {
   "codemirror_mode": {
    "name": "ipython",
    "version": 3
   },
   "file_extension": ".py",
   "mimetype": "text/x-python",
   "name": "python",
   "nbconvert_exporter": "python",
   "pygments_lexer": "ipython3",
   "version": "3.8.3"
  },
  "toc": {
   "base_numbering": 1,
   "nav_menu": {},
   "number_sections": true,
   "sideBar": true,
   "skip_h1_title": false,
   "title_cell": "Table of Contents",
   "title_sidebar": "Contents",
   "toc_cell": false,
   "toc_position": {},
   "toc_section_display": true,
   "toc_window_display": false
  }
 },
 "nbformat": 4,
 "nbformat_minor": 5
}
