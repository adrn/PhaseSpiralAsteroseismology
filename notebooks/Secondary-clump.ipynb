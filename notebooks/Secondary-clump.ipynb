{
 "cells": [
  {
   "cell_type": "code",
   "execution_count": null,
   "id": "b38929a9",
   "metadata": {},
   "outputs": [],
   "source": [
    "import pathlib\n",
    "\n",
    "from astropy.convolution import Gaussian2DKernel, convolve\n",
    "import astropy.coordinates as coord\n",
    "from astropy.io import ascii\n",
    "import astropy.table as at\n",
    "import astropy.units as u\n",
    "import matplotlib as mpl\n",
    "import matplotlib.pyplot as plt\n",
    "%matplotlib inline\n",
    "import numpy as np\n",
    "from scipy.stats import binned_statistic, binned_statistic_2d\n",
    "\n",
    "# gala\n",
    "import gala.coordinates as gc\n",
    "import gala.dynamics as gd\n",
    "import gala.potential as gp\n",
    "from gala.units import galactic\n",
    "\n",
    "from pyia import GaiaData"
   ]
  },
  {
   "cell_type": "code",
   "execution_count": null,
   "id": "14c0d784",
   "metadata": {},
   "outputs": [],
   "source": [
    "joined = at.Table.read(\n",
    "    pathlib.Path('~/data/Asteroseismology/TESS_Hon2021_GaiaEDR3.fits').expanduser(),\n",
    "    hdu=1)\n",
    "\n",
    "edr3_actions = at.Table.read(\n",
    "    pathlib.Path('~/data/GaiaEDR3/edr3-rv-good-plx-result-actions.fits').expanduser())\n",
    "joined = at.join(joined, edr3_actions, \n",
    "                 keys='source_id', join_type='left')"
   ]
  },
  {
   "cell_type": "code",
   "execution_count": null,
   "id": "8f9dedd1",
   "metadata": {},
   "outputs": [],
   "source": [
    "vcirc = 229 * u.km/u.s\n",
    "galcen_frame = coord.Galactocentric()\n",
    "galcen_frame"
   ]
  },
  {
   "cell_type": "code",
   "execution_count": null,
   "id": "df5aeea2",
   "metadata": {},
   "outputs": [],
   "source": [
    "g = GaiaData(joined)\n",
    "g = g[(g.massflag == 1) & \n",
    "      (g.parallax_over_error > 5)]\n",
    "c = g.get_skycoord()"
   ]
  },
  {
   "cell_type": "code",
   "execution_count": null,
   "id": "d3cea3c2",
   "metadata": {},
   "outputs": [],
   "source": [
    "# MG = g.get_G0() - g.distmod\n",
    "# BPRP = g.get_BP0() - g.get_RP0()\n",
    "\n",
    "MG = g.phot_g_mean_mag - g.distmod\n",
    "BPRP = g.phot_bp_mean_mag - g.phot_rp_mean_mag"
   ]
  },
  {
   "cell_type": "code",
   "execution_count": null,
   "id": "d54620e6",
   "metadata": {},
   "outputs": [],
   "source": [
    "lims = [\n",
    "    (0.5, 1.4),\n",
    "    (1.4, 2.0),\n",
    "    (2, 2.4),\n",
    "    (2.4, 10.)\n",
    "]\n",
    "\n",
    "fig, axes = plt.subplots(1, len(lims), \n",
    "                         figsize=(5 * len(lims), 5), \n",
    "                         sharex=True, sharey=True)\n",
    "\n",
    "for ax, lim in zip(axes, lims):\n",
    "    mask = ((g.mass.value > lim[0]) & \n",
    "            (g.mass.value < lim[1]))\n",
    "#     ax.plot(BPRP[mask], MG[mask], \n",
    "#             marker='o', ls='none', \n",
    "#             mew=0, ms=2., alpha=0.5)\n",
    "    ax.hist2d(\n",
    "        BPRP[mask].value, MG[mask].value, \n",
    "        bins=(np.linspace(0, 3.5, 128),\n",
    "              np.linspace(-5, 10, 128)),\n",
    "        norm=mpl.colors.LogNorm()\n",
    "    )\n",
    "    \n",
    "ax.set_xlim(0, 3.5)\n",
    "ax.set_ylim(10, -6)"
   ]
  },
  {
   "cell_type": "code",
   "execution_count": null,
   "id": "22ece37d",
   "metadata": {},
   "outputs": [],
   "source": [
    "lims = [\n",
    "    (2, 2.4),\n",
    "    (2.4, 10.)\n",
    "]\n",
    "\n",
    "fig, axes = plt.subplots(1, len(lims), \n",
    "                         figsize=(5 * len(lims), 5), \n",
    "                         sharex=True, sharey=True,\n",
    "                         constrained_layout=True)\n",
    "\n",
    "bg_mask = ((g.mass.value > 0.5) & \n",
    "           (g.mass.value < 2.))\n",
    "\n",
    "xlim = (0.5, 2.5)\n",
    "ylim = (-2, 3)\n",
    "\n",
    "for ax, lim in zip(axes, lims):\n",
    "    mask = ((g.mass.value > lim[0]) & \n",
    "            (g.mass.value < lim[1]))\n",
    "\n",
    "    ax.hist2d(\n",
    "        BPRP[bg_mask].value, MG[bg_mask].value, \n",
    "        bins=(np.linspace(*xlim, 128),\n",
    "              np.linspace(*ylim, 128)),\n",
    "        norm=mpl.colors.LogNorm(),\n",
    "        cmap='Greys'\n",
    "    )\n",
    "    \n",
    "    ax.plot(BPRP[mask], MG[mask], \n",
    "            marker='o', ls='none', \n",
    "            color='tab:red',\n",
    "            mew=0, ms=3, alpha=0.1,\n",
    "            label=f'${lim[0]:.1f} < m < {lim[1]:.1f}$')\n",
    "    ax.legend(loc='upper left', fontsize=14)\n",
    "    \n",
    "    ax.set_xlabel(r'$G_{\\rm BP}-G_{\\rm RP}$')\n",
    "\n",
    "axes[0].set_ylabel('$M_G$')\n",
    "\n",
    "ax.set_xlim(xlim)\n",
    "ax.set_ylim(ylim[::-1])\n",
    "\n",
    "fig.suptitle('Background: log density of $0.5 < m < 2$', fontsize=22)"
   ]
  },
  {
   "cell_type": "code",
   "execution_count": null,
   "id": "43632b6d",
   "metadata": {},
   "outputs": [],
   "source": []
  }
 ],
 "metadata": {
  "kernelspec": {
   "display_name": "Python [conda env:root] *",
   "language": "python",
   "name": "conda-root-py"
  },
  "language_info": {
   "codemirror_mode": {
    "name": "ipython",
    "version": 3
   },
   "file_extension": ".py",
   "mimetype": "text/x-python",
   "name": "python",
   "nbconvert_exporter": "python",
   "pygments_lexer": "ipython3",
   "version": "3.8.3"
  },
  "toc": {
   "base_numbering": 1,
   "nav_menu": {},
   "number_sections": true,
   "sideBar": true,
   "skip_h1_title": false,
   "title_cell": "Table of Contents",
   "title_sidebar": "Contents",
   "toc_cell": false,
   "toc_position": {},
   "toc_section_display": true,
   "toc_window_display": false
  }
 },
 "nbformat": 4,
 "nbformat_minor": 5
}
