{
 "cells": [
  {
   "cell_type": "code",
   "execution_count": null,
   "id": "1cc2552e",
   "metadata": {},
   "outputs": [],
   "source": [
    "import pathlib\n",
    "\n",
    "from astropy.convolution import Gaussian2DKernel, convolve\n",
    "import astropy.coordinates as coord\n",
    "from astropy.io import ascii, fits\n",
    "import astropy.table as at\n",
    "import astropy.units as u\n",
    "import matplotlib as mpl\n",
    "import matplotlib.pyplot as plt\n",
    "%matplotlib inline\n",
    "import numpy as np\n",
    "from scipy.stats import binned_statistic, binned_statistic_2d\n",
    "from IPython.display import HTML\n",
    "from astropy.stats import median_absolute_deviation as MAD\n",
    "from tqdm.notebook import tqdm\n",
    "\n",
    "# gala\n",
    "import gala.coordinates as gc\n",
    "import gala.dynamics as gd\n",
    "import gala.integrate as gi\n",
    "import gala.potential as gp\n",
    "from gala.units import galactic\n",
    "\n",
    "from pyia import GaiaData\n",
    "from cmastro import cmaps"
   ]
  },
  {
   "cell_type": "code",
   "execution_count": null,
   "id": "82b30942",
   "metadata": {},
   "outputs": [],
   "source": [
    "vcirc = 229 * u.km/u.s\n",
    "galcen_frame = coord.Galactocentric()\n",
    "\n",
    "galcen_frame"
   ]
  },
  {
   "cell_type": "code",
   "execution_count": null,
   "id": "e5090581",
   "metadata": {},
   "outputs": [],
   "source": [
    "mw = gp.MilkyWayPotential()\n",
    "sun_w0 = gd.PhaseSpacePosition([-8.1, 0, 0.0206]*u.kpc,\n",
    "                               [12.9, 245.6, 7.78]*u.km/u.s)\n",
    "sun_orbit = mw.integrate_orbit(sun_w0, dt=0.5, n_steps=4000)\n",
    "# _ = sun_orbit.plot()\n",
    "Jz_unit = np.abs(sun_orbit.z).max() * np.abs(sun_orbit.v_z).max().to(u.km/u.s)\n",
    "Jz_unit"
   ]
  },
  {
   "cell_type": "code",
   "execution_count": null,
   "id": "c11f1b2a",
   "metadata": {},
   "outputs": [],
   "source": [
    "# See: Setup.ipynb\n",
    "data_path = pathlib.Path('../../data/').resolve()\n",
    "_cache_file = data_path / 'edr3-2mass-actions.fits'\n",
    "data = at.Table.read(_cache_file)\n",
    "\n",
    "cmd_masks_file = data_path / 'cmd-masks.fits'\n",
    "cmd_masks = at.Table.read(cmd_masks_file)\n",
    "\n",
    "data = at.hstack((data, cmd_masks))\n",
    "\n",
    "g = GaiaData(data)"
   ]
  },
  {
   "cell_type": "code",
   "execution_count": null,
   "id": "cbecfe21",
   "metadata": {},
   "outputs": [],
   "source": [
    "c = g.get_skycoord()\n",
    "\n",
    "Rg = np.abs(g.J_phi / vcirc).to_value(u.kpc)\n",
    "\n",
    "xx = np.sqrt(g.J_z.to_value(Jz_unit)) * np.cos(g.theta_z)\n",
    "yy = np.sqrt(g.J_z.to_value(Jz_unit)) * np.sin(g.theta_z)\n",
    "# xx = (g.J_z.to_value(Jz_unit)) * np.cos(g.theta_z)\n",
    "# yy = (g.J_z.to_value(Jz_unit)) * np.sin(g.theta_z)\n",
    "\n",
    "Rg_mask = (Rg > 7) & (Rg < 9)"
   ]
  },
  {
   "cell_type": "markdown",
   "id": "3f0e448f",
   "metadata": {},
   "source": [
    "# Simulate a spiral:"
   ]
  },
  {
   "cell_type": "markdown",
   "id": "17e6ca8c",
   "metadata": {},
   "source": [
    "$$\n",
    "\\rho(z) = \\frac{1}{2b}{\\rm sech}(z/b)^2\\\\\n",
    "\\Phi(z) = 2\\pi \\, b^3 \\, G \\, \\log(\\cosh(z/b))\\\\\n",
    "M(<z) = \\frac{1}{2} \\, {\\rm tanh}(z/b)\\\\\n",
    "\\frac{{\\rm d}\\Phi}{{\\rm d} z} = {\\rm tanh}(z/b)/b\n",
    "$$"
   ]
  },
  {
   "cell_type": "code",
   "execution_count": null,
   "id": "7d63b60c",
   "metadata": {},
   "outputs": [],
   "source": [
    "from numba import jit"
   ]
  },
  {
   "cell_type": "code",
   "execution_count": null,
   "id": "ae982a3d",
   "metadata": {},
   "outputs": [],
   "source": [
    "@jit('void(f8[:,:], f8, f8[:,:])', nopython=True)\n",
    "def numbagrad(w, b, g):\n",
    "    for i in range(w.shape[1]):\n",
    "        g[0, i] = w[1, i]\n",
    "        g[1, i] = -np.tanh(w[0, i] / b) / b\n",
    "\n",
    "\n",
    "class FastGrad:\n",
    "    def __init__(self, N, b):\n",
    "        self._grad = np.zeros((2, N))\n",
    "        \n",
    "    def __call__(self, t, w):\n",
    "        numbagrad(w, b, self._grad)\n",
    "        return self._grad"
   ]
  },
  {
   "cell_type": "code",
   "execution_count": null,
   "id": "c5314d4c",
   "metadata": {},
   "outputs": [],
   "source": [
    "N = 100_000\n",
    "b = 250\n",
    "\n",
    "z = np.arctanh(2.*np.random.uniform(size=N)-1) * b*2.\n",
    "vz = np.random.normal(size=N)"
   ]
  },
  {
   "cell_type": "code",
   "execution_count": null,
   "id": "c529860f",
   "metadata": {},
   "outputs": [],
   "source": [
    "fastgrad = FastGrad(N=N, b=b)\n",
    "\n",
    "w0 = np.stack((z, vz))\n",
    "test = fastgrad(0., w0)\n",
    "assert np.isfinite(test).all()"
   ]
  },
  {
   "cell_type": "code",
   "execution_count": null,
   "id": "c908c41d",
   "metadata": {},
   "outputs": [],
   "source": [
    "integrator = gi.DOPRI853Integrator(fastgrad)"
   ]
  },
  {
   "cell_type": "code",
   "execution_count": null,
   "id": "dea503f6",
   "metadata": {},
   "outputs": [],
   "source": [
    "init_pos = w0[0]\n",
    "init_vel = w0[1] + 0.3\n",
    "init_w0 = np.stack((init_pos, init_vel))\n",
    "\n",
    "xscale = np.std(w0[0])\n",
    "vscale = np.std(w0[1])"
   ]
  },
  {
   "cell_type": "code",
   "execution_count": null,
   "id": "a41b8be4",
   "metadata": {},
   "outputs": [],
   "source": [
    "orbits = integrator.run(init_w0, dt=5., n_steps=2000)"
   ]
  },
  {
   "cell_type": "markdown",
   "id": "0b105163",
   "metadata": {},
   "source": [
    "# Project onto Fourier expansion"
   ]
  },
  {
   "cell_type": "code",
   "execution_count": null,
   "id": "16c7e71d",
   "metadata": {},
   "outputs": [],
   "source": [
    "w0 = np.random.normal(0, 1, size=(100_000, 2)).T"
   ]
  },
  {
   "cell_type": "code",
   "execution_count": null,
   "id": "d8c93bad",
   "metadata": {},
   "outputs": [],
   "source": [
    "from collections import defaultdict\n",
    "\n",
    "def spirality(xx, yy, radius_bins, m_max=3):\n",
    "    X = np.stack((xx, yy)).T\n",
    "    r = np.sqrt(xx**2 + yy**2).view(np.ndarray)\n",
    "    theta_z = np.arctan2(yy, xx).view(np.ndarray)\n",
    "    \n",
    "    amps = list()\n",
    "    phases = list()\n",
    "    Ns = list()\n",
    "    for r1, r2 in zip(radius_bins[:-1], radius_bins[1:]):\n",
    "        mask = (r >= r1) & (r < r2)\n",
    "        Ns.append(mask.sum())\n",
    "        \n",
    "        m_amps = list()\n",
    "        m_phases = list()\n",
    "        for m in range(1, m_max+1):\n",
    "            coeff = np.sum(np.exp(1j * m * theta_z[mask])) / len(theta_z)\n",
    "            amp = np.abs(coeff)\n",
    "            phase = np.arctan2(coeff.imag, coeff.real)\n",
    "            \n",
    "            m_amps.append(amp)\n",
    "            m_phases.append(phase)\n",
    "        \n",
    "        amps.append(m_amps)\n",
    "        phases.append(m_phases)\n",
    "        \n",
    "    return np.array(Ns), np.array(amps), np.array(phases)"
   ]
  },
  {
   "cell_type": "code",
   "execution_count": null,
   "id": "14801ec9",
   "metadata": {},
   "outputs": [],
   "source": [
    "radius_bins = np.arange(np.sqrt(0.1), np.sqrt(4.5), 0.2)**2\n",
    "radii = 0.5 * (radius_bins[:-1] + radius_bins[:-1])\n",
    "\n",
    "fig, axes = plt.subplots(1, 2, figsize=(12, 6))\n",
    "\n",
    "ax = axes[0]\n",
    "H, xe, ye = np.histogram2d(\n",
    "    w0[0],\n",
    "    w0[1],\n",
    "    bins=np.linspace(-4, 4, 128)\n",
    ")\n",
    "ax.pcolormesh(xe, ye, H.T, \n",
    "              norm=mpl.colors.LogNorm(),\n",
    "              cmap='Greys')\n",
    "\n",
    "ax = axes[1]\n",
    "k = 1000\n",
    "H, xe, ye = np.histogram2d(\n",
    "    orbits[k].v_x1.value / vscale,\n",
    "    orbits[k].x1.value / xscale,\n",
    "    bins=np.linspace(-4, 4, 128)\n",
    ")\n",
    "ax.pcolormesh(xe, ye, H.T, \n",
    "              norm=mpl.colors.LogNorm(),\n",
    "              cmap='Greys')\n",
    "\n",
    "for ax in axes:\n",
    "    for r in radius_bins:\n",
    "        circ = mpl.patches.Circle((0,0), radius=r, \n",
    "                                  facecolor='none', \n",
    "                                  edgecolor='tab:red', \n",
    "                                  linewidth=1,\n",
    "                                  alpha=0.75)\n",
    "        ax.add_patch(circ)\n",
    "    \n",
    "    ax.set_aspect('equal')"
   ]
  },
  {
   "cell_type": "code",
   "execution_count": null,
   "id": "9db2c4fc",
   "metadata": {},
   "outputs": [],
   "source": [
    "m_max = 8\n",
    "\n",
    "fig, axes = plt.subplots(2, 2, figsize=(10, 10), \n",
    "                         sharex='row', sharey='row')\n",
    "\n",
    "N, amps, phases = spirality(\n",
    "    w0[0],\n",
    "    w0[1],\n",
    "    radius_bins=radius_bins, \n",
    "    m_max=m_max)\n",
    "\n",
    "axes[0, 0].plot(radii[N > 100], np.sqrt(np.sum(amps[N > 100]**2, axis=1)), lw=2)\n",
    "for i in range(m_max):\n",
    "    axes[0, 0].plot(\n",
    "        radii[N > 100], amps[N > 100, i], \n",
    "        label=f'm={i+1}')\n",
    "    \n",
    "    axes[1, 0].plot(\n",
    "        radii[N > 100], phases[N > 100, i])\n",
    "    \n",
    "axes[0, 0].legend(fontsize=14)\n",
    "\n",
    "# ---\n",
    "\n",
    "k = 2000\n",
    "N, amps, phases = spirality(\n",
    "    orbits[k].x1 / xscale, \n",
    "    orbits[k].v_x1 / vscale, \n",
    "    radius_bins=radius_bins,\n",
    "    m_max=m_max)\n",
    "\n",
    "axes[0, 1].plot(radii[N > 100], np.sqrt(np.sum(amps[N > 100]**2, axis=1)), lw=2)\n",
    "for i in range(m_max):\n",
    "    axes[0, 1].plot(radii[N > 100], amps[N > 100, i])\n",
    "    \n",
    "    axes[1, 1].plot(\n",
    "        radii[N > 100], phases[N > 100, i])"
   ]
  },
  {
   "cell_type": "code",
   "execution_count": null,
   "id": "bbe5c10f",
   "metadata": {},
   "outputs": [],
   "source": [
    "# m_max = 3\n",
    "\n",
    "# new_amps = []\n",
    "# ks = np.arange(0, orbits.shape[0], 10)\n",
    "# for k in ks:\n",
    "#     xx = orbits[k].x1 / xscale\n",
    "#     yy = orbits[k].v_x1 / vscale\n",
    "#     N, amps, phases = spirality(\n",
    "#         xx, yy, \n",
    "#         radius_bins=radius_bins,\n",
    "#         m_max=m_max)\n",
    "    \n",
    "#     amp = np.sqrt(np.sum(amps**2, axis=1))\n",
    "#     new_amps.append(amp)\n",
    "    \n",
    "# new_amps = np.array(new_amps)"
   ]
  },
  {
   "cell_type": "code",
   "execution_count": null,
   "id": "ba94d047",
   "metadata": {},
   "outputs": [],
   "source": [
    "m_max = 3\n",
    "\n",
    "# Bootstrap\n",
    "bootstrap_N = 128\n",
    "bootstrap_amps = []\n",
    "# ks = np.arange(0, orbits.shape[0], 200)\n",
    "ks = [-1]\n",
    "for k in tqdm(ks):\n",
    "    xx = orbits[k].x1 / xscale\n",
    "    yy = orbits[k].v_x1 / vscale\n",
    "#     xx = w0[0]\n",
    "#     yy = w0[1]\n",
    "    \n",
    "    trials = []\n",
    "    for n in range(bootstrap_N):\n",
    "        idx = np.random.choice(len(xx), size=len(xx))\n",
    "        N, amps, phases = spirality(\n",
    "            xx[idx], yy[idx], \n",
    "            radius_bins=radius_bins,\n",
    "            m_max=m_max)\n",
    "        # amp = np.sqrt(np.sum(amps**2, axis=1))\n",
    "        # amp = np.sqrt(amps[:, 0]**2 + amps[:, 1]**2)\n",
    "        amp = amps[:, 0:2]\n",
    "        trials.append(amp)\n",
    "    \n",
    "    bootstrap_amps.append(trials)\n",
    "    \n",
    "bootstrap_amps = np.array(bootstrap_amps)"
   ]
  },
  {
   "cell_type": "code",
   "execution_count": null,
   "id": "01b89583",
   "metadata": {},
   "outputs": [],
   "source": [
    "vals = np.mean(bootstrap_amps, axis=1)[0]\n",
    "errs = np.std(bootstrap_amps, axis=1)[0]\n",
    "\n",
    "np.sum(vals / errs**2, axis=0) / np.sum(1 / errs**2, axis=0), np.sqrt(1 / np.sum(1 / errs**2, axis=0))"
   ]
  },
  {
   "cell_type": "code",
   "execution_count": null,
   "id": "f42e6c06",
   "metadata": {},
   "outputs": [],
   "source": [
    "i = -1\n",
    "\n",
    "if bootstrap_amps.ndim == 3:\n",
    "    plt.errorbar(radii, \n",
    "                 np.mean(bootstrap_amps, axis=1)[i],\n",
    "                 np.std(bootstrap_amps, axis=1)[i])\n",
    "\n",
    "elif bootstrap_amps.ndim == 4:\n",
    "    for n in range(bootstrap_amps.shape[-1]):\n",
    "        plt.errorbar(\n",
    "            radii, \n",
    "            np.mean(bootstrap_amps, axis=1)[i, ..., n],\n",
    "            np.std(bootstrap_amps, axis=1)[i, ..., n])"
   ]
  },
  {
   "cell_type": "code",
   "execution_count": null,
   "id": "4fc54aa2",
   "metadata": {},
   "outputs": [],
   "source": [
    "plt.figure(figsize=(4, 10))\n",
    "# plt.pcolormesh(new_amps, norm=mpl.colors.LogNorm())\n",
    "plt.pcolormesh(np.mean(boostrap_amps, axis=1))"
   ]
  },
  {
   "cell_type": "code",
   "execution_count": null,
   "id": "740e81f7",
   "metadata": {},
   "outputs": [],
   "source": []
  },
  {
   "cell_type": "markdown",
   "id": "446d59aa",
   "metadata": {},
   "source": [
    "# Plot the \"Classic\" asymmetry parameters"
   ]
  },
  {
   "cell_type": "code",
   "execution_count": null,
   "id": "084813f2",
   "metadata": {},
   "outputs": [],
   "source": [
    "Ngrtr = (orbits.x1 > 0).sum(axis=1)\n",
    "Nless = (orbits.x1 <= 0).sum(axis=1)\n",
    "Az = (Ngrtr - Nless) / (Ngrtr + Nless)\n",
    "\n",
    "Ngrtr = (orbits.v_x1 > 0).sum(axis=1)\n",
    "Nless = (orbits.v_x1 <= 0).sum(axis=1)\n",
    "Avz = (Ngrtr - Nless) / (Ngrtr + Nless)"
   ]
  },
  {
   "cell_type": "code",
   "execution_count": null,
   "id": "4768c2ce",
   "metadata": {},
   "outputs": [],
   "source": [
    "plt.plot(Az, marker='', color='tab:red')\n",
    "plt.plot(Avz, marker='', color='tab:blue')\n",
    "plt.plot(np.sqrt(Avz**2 + Az**2), marker='', color='tab:purple')"
   ]
  },
  {
   "cell_type": "markdown",
   "id": "fa88a1b7",
   "metadata": {},
   "source": [
    "---\n",
    "\n",
    "OLD"
   ]
  },
  {
   "cell_type": "code",
   "execution_count": null,
   "id": "0fcab601",
   "metadata": {},
   "outputs": [],
   "source": [
    "def crazy_plots(xx, yy, radius_bins, ax=None):\n",
    "    X = np.stack((xx, yy)).T\n",
    "    r = np.sqrt(xx**2 + yy**2).view(np.ndarray)\n",
    "    theta_z = np.arctan2(yy, xx).view(np.ndarray)\n",
    "    \n",
    "    if ax is None:\n",
    "        fig, ax = plt.subplots()\n",
    "    \n",
    "    for r1, r2 in zip(radius_bins[:-1], radius_bins[1:]):\n",
    "        mask = (r >= r1) & (r < r2)\n",
    "        \n",
    "        ax.hist(theta_z[mask], \n",
    "                bins=np.linspace(0, 2*np.pi, 64), \n",
    "                density=True,\n",
    "                histtype='step')\n",
    "        \n",
    "    return ax"
   ]
  },
  {
   "cell_type": "code",
   "execution_count": null,
   "id": "dee5e08e",
   "metadata": {},
   "outputs": [],
   "source": [
    "ax = crazy_plots(\n",
    "    orbits[k].x1 / xscale, \n",
    "    orbits[k].v_x1 / vscale,\n",
    "    radius_bins=radius_bins)s\n",
    "ax.set_xlim(0, 2*np.pi)"
   ]
  },
  {
   "cell_type": "code",
   "execution_count": null,
   "id": "4ed88441",
   "metadata": {},
   "outputs": [],
   "source": []
  },
  {
   "cell_type": "markdown",
   "id": "97f67ad1",
   "metadata": {},
   "source": [
    "# Wedges idea"
   ]
  },
  {
   "cell_type": "code",
   "execution_count": null,
   "id": "b4fa2bba",
   "metadata": {},
   "outputs": [],
   "source": [
    "mask = g.ms_cmd_mask & (g.J_z > 0) & Rg_mask\n",
    "bins = np.linspace(-6, 6, 201)\n",
    "\n",
    "fig, ax = plt.subplots(1, 1, figsize=(6, 6), \n",
    "                       constrained_layout=True)\n",
    "\n",
    "H, xe, ye = np.histogram2d(\n",
    "    xx[mask],\n",
    "    yy[mask],\n",
    "    bins=bins\n",
    ")\n",
    "ax.pcolormesh(xe, ye, H.T, \n",
    "              norm=mpl.colors.LogNorm(),\n",
    "              cmap='Greys')\n",
    "\n",
    "dang = 45.\n",
    "radius_step = 1.\n",
    "radii = np.arange(0.5, 5.5, radius_step)\n",
    "for radius in radii:\n",
    "    for ang in np.arange(0, 360, dang):\n",
    "        w = mpl.patches.Wedge((0, 0), radius, ang, ang+dang, \n",
    "                              width=radius_step,\n",
    "                              facecolor='none', \n",
    "                              edgecolor='k', linewidth=1)\n",
    "        ax.add_patch(w)\n",
    "        \n",
    "        \n",
    "colors = plt.get_cmap('tab10').colors\n",
    "angs = np.arange(0, 180, dang)\n",
    "radius = radii[3]\n",
    "for i, ang in enumerate(angs):\n",
    "    for j in [0, 180]:\n",
    "        w = mpl.patches.Wedge((0, 0), radius, ang+j, ang+dang+j, \n",
    "                              width=radius_step,\n",
    "                              facecolor=colors[i], \n",
    "                              edgecolor='none', alpha=0.4)\n",
    "        ax.add_patch(w)\n",
    "    \n",
    "ax.set_xlim(bins.min(), bins.max())\n",
    "ax.set_ylim(bins.min(), bins.max())\n",
    "\n",
    "ax.set_xlabel(r'$\\sqrt{J_z} \\, \\cos(\\theta_z)$')\n",
    "ax.set_ylabel(r'$\\sqrt{J_z} \\, \\sin(\\theta_z)$')\n",
    "\n",
    "ax.set_aspect('equal')"
   ]
  },
  {
   "cell_type": "code",
   "execution_count": null,
   "id": "eee537e1",
   "metadata": {},
   "outputs": [],
   "source": [
    "def wedge_gen(radii, d_angle):\n",
    "    rs = [(radii[i], radii[i+1] - radii[i]) \n",
    "          for i in range(len(radii) - 1)]\n",
    "    \n",
    "    d_angle = d_angle.to_value(u.degree)\n",
    "    angs = np.arange(0, 180, d_angle)\n",
    "    \n",
    "    for radius, radius_width in rs:\n",
    "        for i, ang in enumerate(angs):\n",
    "            conjugate_wedges = []\n",
    "            for flip in [0, 180]:\n",
    "                w = mpl.patches.Wedge((0, 0), radius, \n",
    "                                      ang+flip, ang+d_angle+flip, \n",
    "                                      width=min(radius_width, radius))\n",
    "                conjugate_wedges.append(w)\n",
    "                \n",
    "            yield radius, ang, conjugate_wedges\n",
    "            \n",
    "\n",
    "from collections import defaultdict\n",
    "def spirality(xx, yy, radii, d_angle=45*u.deg, summary=True):\n",
    "    X = np.stack((xx, yy)).T\n",
    "    \n",
    "    diffs = defaultdict(list)\n",
    "    for radius, _, wedges in wedge_gen(radii, d_angle):\n",
    "        mask1 = wedges[0].get_path().contains_points(X)\n",
    "        mask2 = wedges[1].get_path().contains_points(X)\n",
    "        diffs[radius].append( (mask1.sum() - mask2.sum()) / (mask1.sum() + mask2.sum()) )\n",
    "    \n",
    "    if summary:\n",
    "        vals = []\n",
    "        for r in radii:\n",
    "            vals.append(np.sqrt(np.sum(np.array(diffs[r])**2)))\n",
    "        return np.array(vals)\n",
    "    else:\n",
    "        return diffs"
   ]
  },
  {
   "cell_type": "code",
   "execution_count": null,
   "id": "e6a12f59",
   "metadata": {},
   "outputs": [],
   "source": [
    "# derp = np.stack((xx[mask], yy[mask])).T\n",
    "\n",
    "# plt.figure(figsize=(6, 6))\n",
    "# for radius, ang, wedges in wedge_gen(np.arange(0.5, 5.5, 1.), \n",
    "#                                      45*u.deg):\n",
    "#     fuck = wedges[0].get_path().contains_points(derp)\n",
    "#     ls, = plt.plot(derp[fuck, 0], derp[fuck, 1], ls='none')\n",
    "    \n",
    "#     fuck = wedges[1].get_path().contains_points(derp)\n",
    "#     plt.plot(derp[fuck, 0], derp[fuck, 1], ls='none', color=ls.get_color())"
   ]
  },
  {
   "cell_type": "markdown",
   "id": "4b22ffc1",
   "metadata": {},
   "source": [
    "## \"Classic\" asymmetry parameters"
   ]
  },
  {
   "cell_type": "code",
   "execution_count": null,
   "id": "6aee88d4",
   "metadata": {},
   "outputs": [],
   "source": [
    "fig, axes = plt.subplots(1, 2, figsize=(12, 6), \n",
    "                         sharex=True, sharey=True,\n",
    "                         constrained_layout=True)\n",
    "\n",
    "ax = axes[0]\n",
    "H, xe, ye = np.histogram2d(\n",
    "    w0[1] / vscale,\n",
    "    w0[0] / xscale,\n",
    "    bins=np.linspace(-4, 4, 128)\n",
    ")\n",
    "ax.pcolormesh(xe, ye, H.T, \n",
    "              norm=mpl.colors.LogNorm(),\n",
    "              cmap='Greys')\n",
    "\n",
    "ax = axes[1]\n",
    "H, xe, ye = np.histogram2d(\n",
    "    orbits[1000].v_x1.value / vscale,\n",
    "    orbits[1000].x1.value / xscale,\n",
    "    bins=np.linspace(-4, 4, 128)\n",
    ")\n",
    "ax.pcolormesh(xe, ye, H.T, \n",
    "              norm=mpl.colors.LogNorm(),\n",
    "              cmap='Greys')"
   ]
  },
  {
   "cell_type": "code",
   "execution_count": null,
   "id": "0105bd3d",
   "metadata": {},
   "outputs": [],
   "source": [
    "k = 1000\n",
    "plt.plot(spirality(orbits[k].x1 / xscale, \n",
    "           orbits[k].v_x1 / vscale, \n",
    "           radii=np.arange(0.5, 4.5, 0.5),\n",
    "           summary=True))"
   ]
  },
  {
   "cell_type": "code",
   "execution_count": null,
   "id": "32503bf0",
   "metadata": {},
   "outputs": [],
   "source": [
    "plt.plot(spirality(w0[0] / xscale,\n",
    "          w0[1] / vscale,\n",
    "          radii=np.arange(0.5, 4.5, 0.25),\n",
    "          summary=True))"
   ]
  },
  {
   "cell_type": "code",
   "execution_count": null,
   "id": "25fcb2ed",
   "metadata": {},
   "outputs": [],
   "source": [
    "ks = np.arange(0, orbits.shape[0], 200)\n",
    "spiral_asym = np.zeros(len(ks))\n",
    "for i, k in enumerate(ks):\n",
    "    spiral_asym[i] = spirality(orbits[k].x1 / xscale, \n",
    "                               orbits[k].v_x1 / vscale, \n",
    "                               radii=np.arange(0.5, 4.5, 0.5),\n",
    "                               summary=True)"
   ]
  },
  {
   "cell_type": "code",
   "execution_count": null,
   "id": "101393bd",
   "metadata": {},
   "outputs": [],
   "source": [
    "fuckit = np.linspace(0.1, 1, 32)\n",
    "Ns = np.zeros(len(fuckit))\n",
    "vals = np.zeros_like(fuckit)\n",
    "for i, stupid in enumerate(fuckit):\n",
    "    derps = spirality(w0[1] / vscale,\n",
    "                      w0[0] / xscale, \n",
    "                      radii=np.arange(0.5, 4.5, stupid),\n",
    "                      summary=False)\n",
    "    Ns[i] = len(derps)\n",
    "    vals[i] = np.sqrt(np.sum(derps**2))"
   ]
  },
  {
   "cell_type": "code",
   "execution_count": null,
   "id": "fd9219c2",
   "metadata": {},
   "outputs": [],
   "source": [
    "np.polyfit(Ns, vals, deg=2)"
   ]
  },
  {
   "cell_type": "code",
   "execution_count": null,
   "id": "8bafce09",
   "metadata": {},
   "outputs": [],
   "source": [
    "plt.figure(figsize=(6, 6))\n",
    "plt.plot(Ns, vals)"
   ]
  },
  {
   "cell_type": "code",
   "execution_count": null,
   "id": "4b16f3da",
   "metadata": {},
   "outputs": [],
   "source": [
    "plt.plot(ks, spiral_asym)"
   ]
  },
  {
   "cell_type": "code",
   "execution_count": null,
   "id": "b780e108",
   "metadata": {},
   "outputs": [],
   "source": [
    "plt.plot(ks, spiral_asym)"
   ]
  },
  {
   "cell_type": "code",
   "execution_count": null,
   "id": "b70da879",
   "metadata": {},
   "outputs": [],
   "source": []
  },
  {
   "cell_type": "code",
   "execution_count": null,
   "id": "b726400b",
   "metadata": {},
   "outputs": [],
   "source": []
  }
 ],
 "metadata": {
  "kernelspec": {
   "display_name": "Python [conda env:root] *",
   "language": "python",
   "name": "conda-root-py"
  },
  "language_info": {
   "codemirror_mode": {
    "name": "ipython",
    "version": 3
   },
   "file_extension": ".py",
   "mimetype": "text/x-python",
   "name": "python",
   "nbconvert_exporter": "python",
   "pygments_lexer": "ipython3",
   "version": "3.8.3"
  },
  "toc": {
   "base_numbering": 1,
   "nav_menu": {},
   "number_sections": true,
   "sideBar": true,
   "skip_h1_title": false,
   "title_cell": "Table of Contents",
   "title_sidebar": "Contents",
   "toc_cell": false,
   "toc_position": {},
   "toc_section_display": true,
   "toc_window_display": true
  }
 },
 "nbformat": 4,
 "nbformat_minor": 5
}
